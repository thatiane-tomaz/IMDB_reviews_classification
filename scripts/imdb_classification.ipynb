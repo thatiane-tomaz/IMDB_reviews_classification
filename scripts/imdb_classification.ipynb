{
 "cells": [
  {
   "cell_type": "markdown",
   "metadata": {},
   "source": [
    "# Text Classification - IMDB Reviews\n",
    "\n",
    "\n",
    "IMDB movies reviews classification using Bag of Words and Random Forest."
   ]
  },
    {
   "cell_type": "markdown",
   "metadata": {},
   "source": [
    "### Importing libraries"
   ]
  },
  {
   "cell_type": "code",
   "execution_count": 15,
   "metadata": {
    "ExecuteTime": {
     "end_time": "2021-01-08T23:32:46.706837Z",
     "start_time": "2021-01-08T23:32:46.688889Z"
    }
   },
   "outputs": [],
   "source": [
    "\n",
    "import numpy as np\n",
    "import pandas as pd\n",
    "from tqdm import tqdm\n",
    "import pickle\n",
    "import joblib\n",
    "from datetime import datetime\n",
    "\n",
    "from sklearn.feature_extraction.text import TfidfTransformer, TfidfVectorizer\n",
    "from sklearn.model_selection import train_test_split\n",
    "from sklearn.ensemble import RandomForestClassifier\n",
    "from sklearn.metrics import classification_report, accuracy_score, roc_curve, roc_auc_score\n",
    "\n",
    "import nltk\n",
    "from nltk.stem import PorterStemmer\n",
    "from nltk.corpus import stopwords\n",
    "\n",
    "import matplotlib.pyplot as plt\n",
    "%matplotlib inline"
   ]
  },
  {
   "cell_type": "markdown",
   "metadata": {},
   "source": [
    "### Preprocessing Data"
   ]
  },
  {
   "cell_type": "code",
   "execution_count": 16,
   "metadata": {
    "ExecuteTime": {
     "end_time": "2021-01-08T23:37:05.458559Z",
     "start_time": "2021-01-08T23:32:48.318358Z"
    }
   },
   "outputs": [
    {
     "name": "stdout",
     "output_type": "stream",
     "text": [
      "preprocessing data...\n",
      "preprocessing done!\n"
     ]
    }
   ],
   "source": [
    "# Preprocessing\n",
    "\n",
    "df = pd.read_csv('IMDB Dataset.csv')\n",
    "\n",
    "#normalizing to lowercase letters\n",
    "df['review'] = df['review'].str.lower()\n",
    "\n",
    "#removing hyperlinks\n",
    "df['review'] = df['review'].str.replace('[^\\w\\s]','')\n",
    "\n",
    "#tokenization \n",
    "df['review_tok'] = df['review'].str.split()\n",
    "\n",
    "#removing stopwords\n",
    "stop_words = set(stopwords.words('english'))\n",
    "df['review_stop'] = df['review_tok'].apply(lambda x: [item for item in x if item not in stop_words])\n",
    "  \n",
    "#Stemming - Porter Stemmer\n",
    "porter_stemmer = PorterStemmer()\n",
    "df['review_PS'] = df['review_stop'].apply(lambda x: [porter_stemmer.stem(y) for y in x])\n"
   ]
  },
  {
   "cell_type": "markdown",
   "metadata": {
    "ExecuteTime": {
     "end_time": "2021-01-13T00:20:09.605859Z",
     "start_time": "2021-01-13T00:20:09.601871Z"
    }
   },
   "source": [
    "## Creating representation using Bag of Words - TF-IDF"
   ]
  },
  {
   "cell_type": "code",
   "execution_count": 17,
   "metadata": {
    "ExecuteTime": {
     "end_time": "2021-01-08T23:38:37.870354Z",
     "start_time": "2021-01-08T23:37:35.151117Z"
    }
   },
   "outputs": [
    {
     "name": "stdout",
     "output_type": "stream",
     "text": [
      "transforming words to numbers...\n",
      "BoW done!\n"
     ]
    }
   ],
   "source": [
    "X = df['review_PS'].map(' '.join)\n",
    "tf = TfidfVectorizer(analyzer='word', ngram_range=(1,2), max_features = 500000)\n",
    "\n",
    "# Fit the model\n",
    "tf_transformer = tf.fit(X)\n",
    "\n",
    "# Dump the file\n",
    "pickle.dump(tf_transformer, open(\"tfidf1_v3.pkl\", \"wb\"))\n",
    "\n",
    "X_tf = tf_transformer.fit_transform(X)"
   ]
  },
  {
   "cell_type": "markdown",
   "metadata": {},
   "source": [
    "### Training model using Random Forest algorithm"
   ]
  },
  {
   "cell_type": "code",
   "execution_count": 4,
   "metadata": {
    "ExecuteTime": {
     "end_time": "2021-01-08T19:25:29.465783Z",
     "start_time": "2021-01-08T19:13:09.517706Z"
    }
   },
   "outputs": [
    {
     "name": "stdout",
     "output_type": "stream",
     "text": [
      "splitting base...\n",
      "training model...\n",
      "training done!\n"
     ]
    }
   ],
   "source": [
    "y = df['sentiment']\n",
    "\n",
    "# split train/test\n",
    "\n",
    "X_train,X_test,y_train,y_test = train_test_split(X_tf, y, test_size=0.2, random_state=0)\n",
    "\n",
    "# train test classification\n",
    "\n",
    "classifier = RandomForestClassifier(n_estimators=100, random_state=0)\n",
    "classifier.fit(X_train, y_train)"
   ]
  },
  {
   "cell_type": "markdown",
   "metadata": {},
   "source": [
    "### Testing the model and analyzing the results"
   ]
  },
  {
   "cell_type": "code",
   "execution_count": 18,
   "metadata": {
    "ExecuteTime": {
     "end_time": "2021-01-08T23:38:52.245921Z",
     "start_time": "2021-01-08T23:38:45.396586Z"
    }
   },
   "outputs": [
    {
     "name": "stdout",
     "output_type": "stream",
     "text": [
      "printing scores...\n",
      "              precision    recall  f1-score   support\n",
      "\n",
      "    negative       0.86      0.86      0.86      5035\n",
      "    positive       0.85      0.86      0.86      4965\n",
      "\n",
      "    accuracy                           0.86     10000\n",
      "   macro avg       0.86      0.86      0.86     10000\n",
      "weighted avg       0.86      0.86      0.86     10000\n",
      "\n",
      "Accuracy score:\n",
      "0.8572\n",
      "AUC score:\n",
      "0.9335591443980755\n"
     ]
    }
   ],
   "source": [
    "print('printing scores...')\n",
    "# predict\n",
    "y_pred = classifier.predict(X_test)\n",
    "y_score = classifier.predict_proba(X_test)[:,1]\n",
    "print(classification_report(y_test,y_pred))\n",
    "print(\"Accuracy score:\")\n",
    "print(accuracy_score(y_test, y_pred))\n",
    "print(\"AUC score:\")\n",
    "print(roc_auc_score(y_test, y_score))\n",
    "\n",
    "#Accuracy = TP+TN/TP+FP+FN+TN\n",
    "#Precision = TP/TP+FP\n",
    "#Recall = TP/TP+FN\n",
    "#F1 Score = 2*(Recall * Precision) / (Recall + Precision)"
   ]
  },
  {
   "cell_type": "code",
   "execution_count": 19,
   "metadata": {
    "ExecuteTime": {
     "end_time": "2021-01-08T23:38:55.791525Z",
     "start_time": "2021-01-08T23:38:55.556578Z"
    }
   },
   "outputs": [
    {
     "data": {
      "image/png": "[encoded data removed]",
      "text/plain": [
       "<Figure size 720x720 with 1 Axes>"
      ]
     },
     "metadata": {
      "needs_background": "light"
     },
     "output_type": "display_data"
    }
   ],
   "source": [
    "#Ploting ROC curve\n",
    "fpr, tpr, thresh = roc_curve(y_test, y_score, pos_label= 'positive')\n",
    "plt.subplots(1, figsize=(10,10))\n",
    "plt.title('ROC Curve')\n",
    "plt.plot(fpr, tpr)\n",
    "plt.plot([0, 1], ls=\"--\")\n",
    "plt.plot([0, 0], [1, 0] , c=\".7\"), plt.plot([1, 1] , c=\".7\")\n",
    "plt.ylabel('True Positive Rate')\n",
    "plt.xlabel('False Positive Rate')\n",
    "plt.show()"
   ]
  },
  {
   "cell_type": "markdown",
   "metadata": {},
   "source": [
    "### Saving Model"
   ]
  },
  {
   "cell_type": "code",
   "execution_count": null,
   "metadata": {},
   "outputs": [],
   "source": [
    "joblib.dump(classifier, \"./model_imdb_classifier_.joblib\")"
   ]
  }
 ],
 "metadata": {
  "kernelspec": {
   "display_name": "Python 3",
   "language": "python",
   "name": "python3"
  },
  "language_info": {
   "codemirror_mode": {
    "name": "ipython",
    "version": 3
   },
   "file_extension": ".py",
   "mimetype": "text/x-python",
   "name": "python",
   "nbconvert_exporter": "python",
   "pygments_lexer": "ipython3",
   "version": "3.8.3"
  },
  "toc": {
   "base_numbering": 1,
   "nav_menu": {},
   "number_sections": true,
   "sideBar": true,
   "skip_h1_title": false,
   "title_cell": "Table of Contents",
   "title_sidebar": "Contents",
   "toc_cell": false,
   "toc_position": {},
   "toc_section_display": true,
   "toc_window_display": false
  }
 },
 "nbformat": 4,
 "nbformat_minor": 4
}
